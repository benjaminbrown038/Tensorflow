{
  "nbformat": 4,
  "nbformat_minor": 0,
  "metadata": {
    "colab": {
      "provenance": [],
      "authorship_tag": "ABX9TyORgxaSusDSce13gFDz9I/T",
      "include_colab_link": true
    },
    "kernelspec": {
      "name": "python3",
      "display_name": "Python 3"
    },
    "language_info": {
      "name": "python"
    }
  },
  "cells": [
    {
      "cell_type": "markdown",
      "metadata": {
        "id": "view-in-github",
        "colab_type": "text"
      },
      "source": [
        "<a href=\"https://colab.research.google.com/github/benjaminbrown038/Tensorflow/blob/main/train_loop.ipynb\" target=\"_parent\"><img src=\"https://colab.research.google.com/assets/colab-badge.svg\" alt=\"Open In Colab\"/></a>"
      ]
    },
    {
      "cell_type": "code",
      "execution_count": null,
      "metadata": {
        "id": "Sm8TaaFBvjm3"
      },
      "outputs": [],
      "source": [
        "import tensorflow as tf\n",
        "from tensorflow.keras.models import Sequential\n",
        "from tensorflow.keras.layers import Conv2D, MaxPool2D, ReLU, Softmax\n"
      ]
    },
    {
      "cell_type": "markdown",
      "source": [],
      "metadata": {
        "id": "eukKAZ01xFDP"
      }
    },
    {
      "cell_type": "code",
      "source": [],
      "metadata": {
        "id": "klpLNCkrwvzU"
      },
      "execution_count": 1,
      "outputs": []
    },
    {
      "cell_type": "markdown",
      "source": [],
      "metadata": {
        "id": "AjvviQDDxC1F"
      }
    },
    {
      "cell_type": "code",
      "source": [
        "model.add(Conv2D())"
      ],
      "metadata": {
        "id": "bO7nGXDPxC8W"
      },
      "execution_count": null,
      "outputs": []
    },
    {
      "cell_type": "markdown",
      "source": [],
      "metadata": {
        "id": "xUBJLtJixDDY"
      }
    },
    {
      "cell_type": "code",
      "source": [],
      "metadata": {
        "id": "b3_7sj0QxDJ4"
      },
      "execution_count": null,
      "outputs": []
    },
    {
      "cell_type": "markdown",
      "source": [],
      "metadata": {
        "id": "y1jpH-NNxDSe"
      }
    },
    {
      "cell_type": "code",
      "source": [],
      "metadata": {
        "id": "HjVXHJXlxDcY"
      },
      "execution_count": null,
      "outputs": []
    }
  ]
}