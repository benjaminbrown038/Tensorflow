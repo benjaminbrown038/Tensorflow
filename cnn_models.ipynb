{
  "nbformat": 4,
  "nbformat_minor": 0,
  "metadata": {
    "colab": {
      "provenance": [],
      "authorship_tag": "ABX9TyMFxF/WX+jnO47JG6VdiWzp",
      "include_colab_link": true
    },
    "kernelspec": {
      "name": "python3",
      "display_name": "Python 3"
    },
    "language_info": {
      "name": "python"
    }
  },
  "cells": [
    {
      "cell_type": "markdown",
      "metadata": {
        "id": "view-in-github",
        "colab_type": "text"
      },
      "source": [
        "<a href=\"https://colab.research.google.com/github/benjaminbrown038/Tensorflow/blob/main/cnn_models.ipynb\" target=\"_parent\"><img src=\"https://colab.research.google.com/assets/colab-badge.svg\" alt=\"Open In Colab\"/></a>"
      ]
    },
    {
      "cell_type": "code",
      "execution_count": null,
      "metadata": {
        "id": "DZmtV8yY0g92"
      },
      "outputs": [],
      "source": [
        "import tensorflow"
      ]
    },
    {
      "cell_type": "markdown",
      "source": [],
      "metadata": {
        "id": "LoxOKgDC0ui1"
      }
    },
    {
      "cell_type": "code",
      "source": [],
      "metadata": {
        "id": "mgmXCrdt0upS"
      },
      "execution_count": null,
      "outputs": []
    },
    {
      "cell_type": "markdown",
      "source": [],
      "metadata": {
        "id": "fBw35-c60u-K"
      }
    },
    {
      "cell_type": "code",
      "source": [
        "model = Sequential()\n",
        "\n",
        "model.add(Conv2D(8,(3,3),padding='same',activation = 'relu',input_shape=(1,28,28)))\n",
        "model.add(MaxPool2D((2,2),padding = 'same'))\n",
        "model.add(Conv2D(64,(3,3),padding='same',activation='relu'))\n",
        "model.add(MaxPool2D((4,4),padding='same'))\n",
        "model.add(Conv2D(10,(3,3),padding='same',activation = 'relu'))\n",
        "model.add(MaxPool2D((2,2),padding='same'))\n",
        "model.add(Conv2D(10,(3,3),padding='same',activation = 'softmax'))\n",
        "model.add(MaxPool2D((4,4),padding = 'same'))\n",
        "model.add(Flatten())\n",
        "\n",
        "model.summary()"
      ],
      "metadata": {
        "id": "-oZim30w0vJm"
      },
      "execution_count": null,
      "outputs": []
    },
    {
      "cell_type": "code",
      "source": [
        "model1 = Sequential()\n",
        "\n",
        "model1.add(Conv2D(8,(3,3),padding='same',activation = 'relu',input_shape=(1,28,28)))\n",
        "model1.add(MaxPool2D((2,2),padding = 'same'))\n",
        "model1.add(Conv2D(64,(3,3),padding='same',activation='relu'))\n",
        "model1.add(MaxPool2D((4,4),padding='same'))\n",
        "model1.add(Conv2D(10,(3,3),padding='same',activation = 'relu'))\n",
        "model1.add(MaxPool2D((2,2),padding='same'))\n",
        "model1.add(Conv2D(10,(3,3),padding='same',activation = 'softmax'))\n",
        "model1.add(MaxPool2D((4,4),padding = 'same'))\n",
        "model1.add(Flatten())\n",
        "\n",
        "model1.summary()\n",
        "     "
      ],
      "metadata": {
        "id": "6jpZGj2j0vZe"
      },
      "execution_count": null,
      "outputs": []
    },
    {
      "cell_type": "code",
      "source": [],
      "metadata": {
        "id": "7t_x523K0vc5"
      },
      "execution_count": null,
      "outputs": []
    },
    {
      "cell_type": "code",
      "source": [],
      "metadata": {
        "id": "nibgIXbQ0vfu"
      },
      "execution_count": null,
      "outputs": []
    },
    {
      "cell_type": "code",
      "source": [],
      "metadata": {
        "id": "aQEIUj870vi2"
      },
      "execution_count": null,
      "outputs": []
    },
    {
      "cell_type": "code",
      "source": [],
      "metadata": {
        "id": "vSSOfMNy0vmf"
      },
      "execution_count": null,
      "outputs": []
    }
  ]
}