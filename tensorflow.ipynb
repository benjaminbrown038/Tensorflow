{
  "nbformat": 4,
  "nbformat_minor": 0,
  "metadata": {
    "colab": {
      "provenance": [],
      "authorship_tag": "ABX9TyOU70F2MqWjohOPeqbKPdF5",
      "include_colab_link": true
    },
    "kernelspec": {
      "name": "python3",
      "display_name": "Python 3"
    },
    "language_info": {
      "name": "python"
    }
  },
  "cells": [
    {
      "cell_type": "markdown",
      "metadata": {
        "id": "view-in-github",
        "colab_type": "text"
      },
      "source": [
        "<a href=\"https://colab.research.google.com/github/benjaminbrown038/tensorflow/blob/main/tensorflow.ipynb\" target=\"_parent\"><img src=\"https://colab.research.google.com/assets/colab-badge.svg\" alt=\"Open In Colab\"/></a>"
      ]
    },
    {
      "cell_type": "code",
      "execution_count": null,
      "metadata": {
        "id": "gPiEi3bT9MeJ"
      },
      "outputs": [],
      "source": [
        "import tensorflow\n",
        "from tensorflow.keras.models import Sequential\n",
        "from tensorflow.keras.layers import Conv2D, MaxPool2D, Flatten, Dense\n",
        "from tensorflow.keras.losses import CategoricalCrossentropy\n",
        "from tensorflow.keras.optimizers import Adadelta, Adam, SGD\n",
        "from tensorflow.keras.datasets import mnist\n",
        "from tensorflow.keras.utils import to_categorical\n",
        "from tensorflow.keras.metrics import Accuracy"
      ]
    },
    {
      "cell_type": "code",
      "source": [
        "%%capture\n",
        "(x_train,y_train),(x_test,y_test) = mnist.load_data()\n",
        "x_train = x_train.reshape(x_train.shape[0],1,28,28)\n",
        "x_test = x_test.reshape(x_test.shape[0],1,28,28)\n",
        "x_train = x_train.astype('float32')\n",
        "x_test = x_test.astype('float32')\n",
        "x_train /= x_train\n",
        "x_test /= x_test\n",
        "y_train = to_categorical(y_train,10)\n",
        "y_test = to_categorical(y_test,10)"
      ],
      "metadata": {
        "id": "nvO2ST8L9QdQ"
      },
      "execution_count": null,
      "outputs": []
    },
    {
      "cell_type": "code",
      "source": [
        "model = Sequential()\n",
        "model.add(Conv2D(8,(3,3),padding='same',activation = 'relu',input_shape=(1,28,28)))\n",
        "model.add(MaxPool2D((2,2),padding = 'same'))\n",
        "model.add(Conv2D(64,(3,3),padding='same',activation='relu'))\n",
        "model.add(MaxPool2D((4,4),padding='same'))\n",
        "model.add(Conv2D(10,(3,3),padding='same',activation = 'relu'))\n",
        "model.add(MaxPool2D((2,2),padding='same'))\n",
        "model.add(Conv2D(10,(3,3),padding='same',activation = 'softmax'))\n",
        "model.add(MaxPool2D((4,4),padding = 'same'))\n",
        "model.add(Flatten())\n",
        "model.summary()"
      ],
      "metadata": {
        "id": "bz2txNbw_ihC",
        "outputId": "73279f0f-3b50-4edb-eeb1-0ac9074d6262",
        "colab": {
          "base_uri": "https://localhost:8080/"
        }
      },
      "execution_count": null,
      "outputs": [
        {
          "output_type": "stream",
          "name": "stdout",
          "text": [
            "Model: \"sequential_1\"\n",
            "_________________________________________________________________\n",
            " Layer (type)                Output Shape              Param #   \n",
            "=================================================================\n",
            " conv2d_4 (Conv2D)           (None, 1, 28, 8)          2024      \n",
            "                                                                 \n",
            " max_pooling2d_4 (MaxPooling  (None, 1, 14, 8)         0         \n",
            " 2D)                                                             \n",
            "                                                                 \n",
            " conv2d_5 (Conv2D)           (None, 1, 14, 64)         4672      \n",
            "                                                                 \n",
            " max_pooling2d_5 (MaxPooling  (None, 1, 4, 64)         0         \n",
            " 2D)                                                             \n",
            "                                                                 \n",
            " conv2d_6 (Conv2D)           (None, 1, 4, 10)          5770      \n",
            "                                                                 \n",
            " max_pooling2d_6 (MaxPooling  (None, 1, 2, 10)         0         \n",
            " 2D)                                                             \n",
            "                                                                 \n",
            " conv2d_7 (Conv2D)           (None, 1, 2, 10)          910       \n",
            "                                                                 \n",
            " max_pooling2d_7 (MaxPooling  (None, 1, 1, 10)         0         \n",
            " 2D)                                                             \n",
            "                                                                 \n",
            " flatten_1 (Flatten)         (None, 10)                0         \n",
            "                                                                 \n",
            "=================================================================\n",
            "Total params: 13,376\n",
            "Trainable params: 13,376\n",
            "Non-trainable params: 0\n",
            "_________________________________________________________________\n"
          ]
        }
      ]
    },
    {
      "cell_type": "code",
      "source": [
        "model1 = Sequential(\n",
        "\t\tConv2d(1,32,kernel_size = 2),\n",
        "\t\tMaxPool2d(2,2),\n",
        "\t\tConv2d(32,64,kernel_size = 2),\n",
        "\t\tMaxPool2d(2,2),\n",
        "\t\tConv2d(64,128,kernel_size = 2),\n",
        "\t\tDropout(0.25),\n",
        "\t\tMaxPool2d(1,1),\n",
        "\t\tConv2d(128,10,kernel_size = 3),\n",
        "\t\tFlatten(),\n",
        "\t\tLinear(90,10))\n",
        "summary(model1,(1,28,28))\n",
        "\n",
        "model = Sequential()\n",
        "model.add(Conv2D(8,(3,3),padding='same',activation = 'relu',input_shape=(1,28,28)))\n",
        "model.add(MaxPool2D((2,2),padding = 'same'))\n",
        "model.add(Conv2D(64,(3,3),padding='same',activation='relu'))\n",
        "model.add(MaxPool2D((4,4),padding='same'))\n",
        "model.add(Conv2D(10,(3,3),padding='same',activation = 'relu'))\n",
        "model.add(MaxPool2D((2,2),padding='same'))\n",
        "model.add(Conv2D(10,(3,3),padding='same',activation = 'softmax'))\n",
        "model.add(MaxPool2D((4,4),padding = 'same'))\n",
        "model.add(Flatten())\n",
        "model.summary()"
      ],
      "metadata": {
        "id": "Ij3GJk-xMvhb"
      },
      "execution_count": null,
      "outputs": []
    },
    {
      "cell_type": "code",
      "source": [
        "model2 = Sequential(\n",
        "\t\tConv2d(1,32,kernel_size = 3),\n",
        "\t\tConv2d(32,64,kernel_size = 3),\n",
        "\t\tMaxPool2d(2),\n",
        "\t\tDropout(0.25),\n",
        "\t  Flatten(),\n",
        "\t\tLinear(9216,128),\n",
        "\t\tLinear(128,10))\n",
        "summary(model2,(1,28,28))\n",
        "\n",
        "model = Sequential()\n",
        "model.add(Conv2D(8,(3,3),padding='same',activation = 'relu',input_shape=(1,28,28)))\n",
        "model.add(MaxPool2D((2,2),padding = 'same'))\n",
        "model.add(Conv2D(64,(3,3),padding='same',activation='relu'))\n",
        "model.add(MaxPool2D((4,4),padding='same'))\n",
        "model.add(Conv2D(10,(3,3),padding='same',activation = 'relu'))\n",
        "model.add(MaxPool2D((2,2),padding='same'))\n",
        "model.add(Conv2D(10,(3,3),padding='same',activation = 'softmax'))\n",
        "model.add(MaxPool2D((4,4),padding = 'same'))\n",
        "model.add(Flatten())\n",
        "model.summary()"
      ],
      "metadata": {
        "id": "I2i5eGMIMvlA"
      },
      "execution_count": null,
      "outputs": []
    },
    {
      "cell_type": "code",
      "source": [],
      "metadata": {
        "id": "ID3i3SsjNNoB"
      },
      "execution_count": null,
      "outputs": []
    },
    {
      "cell_type": "code",
      "source": [
        "IMG_SHAPE = IMG_SIZE + (3,)\n",
        "base_model = tf.keras.applications.MobileNetV2(input_shape=IMG_SHAPE,\n",
        "                                               include_top=False,\n",
        "                                               weights='imagenet')\n",
        "\n",
        "image_batch, label_batch = next(iter(train_dataset))\n",
        "feature_batch = base_model(image_batch)\n",
        "print(feature_batch.shape)\n",
        "\n",
        "base_model.trainable = False\n",
        "\n",
        "base_model.summary()\n",
        "\n",
        "global_average_layer = tf.keras.layers.GlobalAveragePooling2D()\n",
        "feature_batch_average = global_average_layer(feature_batch)\n",
        "print(feature_batch_average.shape)\n",
        "\n",
        "\n",
        "prediction_layer = tf.keras.layers.Dense(1)\n",
        "prediction_batch = prediction_layer(feature_batch_average)\n",
        "print(prediction_batch.shape)\n",
        "\n",
        "\n",
        "inputs = tf.keras.Input(shape=(160, 160, 3))\n",
        "x = data_augmentation(inputs)\n",
        "x = preprocess_input(x)\n",
        "x = base_model(x, training=False)\n",
        "x = global_average_layer(x)\n",
        "x = tf.keras.layers.Dropout(0.2)(x)\n",
        "outputs = prediction_layer(x)\n",
        "model = tf.keras.Model(inputs, outputs)\n",
        "\n",
        "\n",
        "base_learning_rate = 0.0001\n",
        "model.compile(optimizer=tf.keras.optimizers.Adam(learning_rate=base_learning_rate),\n",
        "              loss=tf.keras.losses.BinaryCrossentropy(from_logits=True),\n",
        "              metrics=['accuracy'])\n",
        "model.summary()\n"
      ],
      "metadata": {
        "id": "juA-hs2FNNrJ"
      },
      "execution_count": null,
      "outputs": []
    },
    {
      "cell_type": "code",
      "source": [
        "image_batch, label_batch = next(iter(train_dataset))\n",
        "feature_batch = base_model(image_batch)\n",
        "print(feature_batch.shape)"
      ],
      "metadata": {
        "id": "EJrnNcgENOk-"
      },
      "execution_count": null,
      "outputs": []
    },
    {
      "cell_type": "code",
      "source": [
        "%%capture\n",
        "conv = tensorflow.keras.applications.convnext"
      ],
      "metadata": {
        "id": "0HR13IknFXNB"
      },
      "execution_count": null,
      "outputs": []
    },
    {
      "cell_type": "code",
      "source": [
        "inception = tf.keras.applications.inception_v3"
      ],
      "metadata": {
        "id": "Z5Gxs2bJFXQa"
      },
      "execution_count": null,
      "outputs": []
    },
    {
      "cell_type": "code",
      "source": [
        "vgg16 = tf.keras.applications.vgg16"
      ],
      "metadata": {
        "id": "ljgyccn9GDyx"
      },
      "execution_count": null,
      "outputs": []
    },
    {
      "cell_type": "code",
      "source": [
        "ada = Adadelta(learning_rate = .01)\n",
        "adam = Adam()\n",
        "sgd1 = SGD(learning_rate  = .01)\n",
        "sgd2 = SGD(learning_rate  = .001)"
      ],
      "metadata": {
        "id": "TePHGRAxrIiF"
      },
      "execution_count": null,
      "outputs": []
    },
    {
      "cell_type": "code",
      "source": [
        "loss = CategoricalCrossentropy()\n",
        "ac = Accuracy()"
      ],
      "metadata": {
        "id": "i-nQTrX8rIlL"
      },
      "execution_count": null,
      "outputs": []
    },
    {
      "cell_type": "code",
      "source": [
        "model.compile(loss = CategoricalCrossentropy(),optimizer = SGD(learning_rate  = .001), metrics = ['accuracy'])"
      ],
      "metadata": {
        "id": "20wYIRHJrIp1"
      },
      "execution_count": null,
      "outputs": []
    },
    {
      "cell_type": "code",
      "source": [
        "test_batch_size = len(y_test)\n",
        "train_batch_size = len(y_train)\n",
        "batch_size = test_batch_size + train_batch_size\n",
        "\n",
        "model.fit(x_train,y_train,\n",
        "          validation_data = (x_test,y_test),\n",
        "          epochs = 25,\n",
        "          batch_size = batch_size)"
      ],
      "metadata": {
        "id": "iN1CM3wprxsh",
        "outputId": "e3b89588-9d75-4d59-9368-1dce4746c598",
        "colab": {
          "base_uri": "https://localhost:8080/"
        }
      },
      "execution_count": null,
      "outputs": [
        {
          "output_type": "stream",
          "name": "stdout",
          "text": [
            "Epoch 1/25\n",
            "1/1 [==============================] - 7s 7s/step - loss: 14.3070 - accuracy: 0.1124 - val_loss: 14.2887 - val_accuracy: 0.1135\n",
            "Epoch 2/25\n",
            "1/1 [==============================] - 6s 6s/step - loss: 14.3070 - accuracy: 0.1124 - val_loss: 14.2887 - val_accuracy: 0.1135\n",
            "Epoch 3/25\n",
            "1/1 [==============================] - 5s 5s/step - loss: 14.3070 - accuracy: 0.1124 - val_loss: 14.2887 - val_accuracy: 0.1135\n",
            "Epoch 4/25\n",
            "1/1 [==============================] - 5s 5s/step - loss: 14.3070 - accuracy: 0.1124 - val_loss: 14.2887 - val_accuracy: 0.1135\n",
            "Epoch 5/25\n",
            "1/1 [==============================] - 5s 5s/step - loss: 14.3070 - accuracy: 0.1124 - val_loss: 14.2887 - val_accuracy: 0.1135\n",
            "Epoch 6/25\n",
            "1/1 [==============================] - 5s 5s/step - loss: 14.3070 - accuracy: 0.1124 - val_loss: 14.2887 - val_accuracy: 0.1135\n",
            "Epoch 7/25\n",
            "1/1 [==============================] - 6s 6s/step - loss: 14.3070 - accuracy: 0.1124 - val_loss: 14.2887 - val_accuracy: 0.1135\n",
            "Epoch 8/25\n",
            "1/1 [==============================] - 6s 6s/step - loss: 14.3070 - accuracy: 0.1124 - val_loss: 14.2887 - val_accuracy: 0.1135\n",
            "Epoch 9/25\n",
            "1/1 [==============================] - 6s 6s/step - loss: 14.3070 - accuracy: 0.1124 - val_loss: 14.2887 - val_accuracy: 0.1135\n",
            "Epoch 10/25\n",
            "1/1 [==============================] - 5s 5s/step - loss: 14.3070 - accuracy: 0.1124 - val_loss: 14.2887 - val_accuracy: 0.1135\n",
            "Epoch 11/25\n",
            "1/1 [==============================] - 5s 5s/step - loss: 14.3070 - accuracy: 0.1124 - val_loss: 14.2887 - val_accuracy: 0.1135\n",
            "Epoch 12/25\n",
            "1/1 [==============================] - 6s 6s/step - loss: 14.3070 - accuracy: 0.1124 - val_loss: 14.2887 - val_accuracy: 0.1135\n",
            "Epoch 13/25\n",
            "1/1 [==============================] - 4s 4s/step - loss: 14.3070 - accuracy: 0.1124 - val_loss: 14.2887 - val_accuracy: 0.1135\n",
            "Epoch 14/25\n",
            "1/1 [==============================] - 5s 5s/step - loss: 14.3070 - accuracy: 0.1124 - val_loss: 14.2887 - val_accuracy: 0.1135\n",
            "Epoch 15/25\n",
            "1/1 [==============================] - 6s 6s/step - loss: 14.3070 - accuracy: 0.1124 - val_loss: 14.2887 - val_accuracy: 0.1135\n",
            "Epoch 16/25\n",
            "1/1 [==============================] - 4s 4s/step - loss: 14.3070 - accuracy: 0.1124 - val_loss: 14.2887 - val_accuracy: 0.1135\n",
            "Epoch 17/25\n",
            "1/1 [==============================] - 6s 6s/step - loss: 14.3070 - accuracy: 0.1124 - val_loss: 14.2887 - val_accuracy: 0.1135\n",
            "Epoch 18/25\n",
            "1/1 [==============================] - 4s 4s/step - loss: 14.3070 - accuracy: 0.1124 - val_loss: 14.2887 - val_accuracy: 0.1135\n",
            "Epoch 19/25\n",
            "1/1 [==============================] - 5s 5s/step - loss: 14.3070 - accuracy: 0.1124 - val_loss: 14.2887 - val_accuracy: 0.1135\n",
            "Epoch 20/25\n",
            "1/1 [==============================] - 6s 6s/step - loss: 14.3070 - accuracy: 0.1124 - val_loss: 14.2887 - val_accuracy: 0.1135\n",
            "Epoch 21/25\n",
            "1/1 [==============================] - 4s 4s/step - loss: 14.3070 - accuracy: 0.1124 - val_loss: 14.2887 - val_accuracy: 0.1135\n",
            "Epoch 22/25\n",
            "1/1 [==============================] - 5s 5s/step - loss: 14.3070 - accuracy: 0.1124 - val_loss: 14.2887 - val_accuracy: 0.1135\n",
            "Epoch 23/25\n",
            "1/1 [==============================] - 5s 5s/step - loss: 14.3070 - accuracy: 0.1124 - val_loss: 14.2887 - val_accuracy: 0.1135\n",
            "Epoch 24/25\n",
            "1/1 [==============================] - 4s 4s/step - loss: 14.3070 - accuracy: 0.1124 - val_loss: 14.2887 - val_accuracy: 0.1135\n",
            "Epoch 25/25\n",
            "1/1 [==============================] - 6s 6s/step - loss: 14.3070 - accuracy: 0.1124 - val_loss: 14.2887 - val_accuracy: 0.1135\n"
          ]
        }
      ]
    },
    {
      "cell_type": "code",
      "source": [],
      "metadata": {
        "id": "WvijCmz-srP0"
      },
      "execution_count": null,
      "outputs": []
    }
  ]
}