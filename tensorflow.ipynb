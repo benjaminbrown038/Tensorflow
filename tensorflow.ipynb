{
  "nbformat": 4,
  "nbformat_minor": 0,
  "metadata": {
    "colab": {
      "provenance": [],
      "authorship_tag": "ABX9TyMqyiM8GVafjmaLnTWY6VL6",
      "include_colab_link": true
    },
    "kernelspec": {
      "name": "python3",
      "display_name": "Python 3"
    },
    "language_info": {
      "name": "python"
    }
  },
  "cells": [
    {
      "cell_type": "markdown",
      "metadata": {
        "id": "view-in-github",
        "colab_type": "text"
      },
      "source": [
        "<a href=\"https://colab.research.google.com/github/benjaminbrown038/tensorflow/blob/main/tensorflow.ipynb\" target=\"_parent\"><img src=\"https://colab.research.google.com/assets/colab-badge.svg\" alt=\"Open In Colab\"/></a>"
      ]
    },
    {
      "cell_type": "code",
      "source": [
        "import tensorflow\n",
        "from tensorflow.keras.models import Sequential\n",
        "from tensorflow.keras.layers import Conv2D, MaxPool2D, Flatten, Dense\n",
        "from tensorflow.keras.losses import CategoricalCrossentropy \n",
        "from tensorflow.keras.optimizers import Adadelta, Adam, SGD\n",
        "from tensorflow.keras.datasets import mnist\n",
        "from tensorflow.keras.utils import to_categorical\n",
        "from tensorflow.keras.metrics import Accuracy"
      ],
      "metadata": {
        "id": "nRrKiXMrxZ3L"
      },
      "execution_count": null,
      "outputs": []
    },
    {
      "cell_type": "code",
      "source": [
        "%%capture\n",
        "(x_train,y_train),(x_test,y_test) = mnist.load_data()\n",
        "x_train = x_train.reshape(x_train.shape[0],1,28,28)\n",
        "x_test = x_test.reshape(x_test.shape[0],1,28,28)\n",
        "x_train = x_train.astype('float32')\n",
        "x_test = x_test.astype('float32')\n",
        "x_train /= x_train\n",
        "x_test /= x_test\n",
        "y_train = to_categorical(y_train,10)\n",
        "y_test = to_categorical(y_test,10)"
      ],
      "metadata": {
        "id": "nvO2ST8L9QdQ"
      },
      "execution_count": null,
      "outputs": []
    },
    {
      "cell_type": "code",
      "source": [
        "model = Sequential()\n",
        "model.add(Conv2D(8,(3,3),padding='same',activation = 'relu',input_shape=(1,28,28)))\n",
        "model.add(MaxPool2D((2,2),padding = 'same'))\n",
        "model.add(Conv2D(64,(3,3),padding='same',activation='relu'))\n",
        "model.add(MaxPool2D((4,4),padding='same'))\n",
        "model.add(Conv2D(10,(3,3),padding='same',activation = 'relu'))\n",
        "model.add(MaxPool2D((2,2),padding='same'))\n",
        "model.add(Conv2D(10,(3,3),padding='same',activation = 'softmax'))\n",
        "model.add(MaxPool2D((4,4),padding = 'same'))\n",
        "model.add(Flatten())\n",
        "model.summary()"
      ],
      "metadata": {
        "id": "Ij3GJk-xMvhb",
        "outputId": "a9ea7d01-2fdd-4e3c-e67d-4f714fdb4207",
        "colab": {
          "base_uri": "https://localhost:8080/"
        }
      },
      "execution_count": null,
      "outputs": [
        {
          "output_type": "stream",
          "name": "stdout",
          "text": [
            "Model: \"sequential_5\"\n",
            "_________________________________________________________________\n",
            " Layer (type)                Output Shape              Param #   \n",
            "=================================================================\n",
            " conv2d_9 (Conv2D)           (None, 1, 28, 8)          2024      \n",
            "                                                                 \n",
            " max_pooling2d_9 (MaxPooling  (None, 1, 14, 8)         0         \n",
            " 2D)                                                             \n",
            "                                                                 \n",
            " conv2d_10 (Conv2D)          (None, 1, 14, 64)         4672      \n",
            "                                                                 \n",
            " max_pooling2d_10 (MaxPoolin  (None, 1, 4, 64)         0         \n",
            " g2D)                                                            \n",
            "                                                                 \n",
            " conv2d_11 (Conv2D)          (None, 1, 4, 10)          5770      \n",
            "                                                                 \n",
            " max_pooling2d_11 (MaxPoolin  (None, 1, 2, 10)         0         \n",
            " g2D)                                                            \n",
            "                                                                 \n",
            " conv2d_12 (Conv2D)          (None, 1, 2, 10)          910       \n",
            "                                                                 \n",
            " max_pooling2d_12 (MaxPoolin  (None, 1, 1, 10)         0         \n",
            " g2D)                                                            \n",
            "                                                                 \n",
            " flatten_1 (Flatten)         (None, 10)                0         \n",
            "                                                                 \n",
            "=================================================================\n",
            "Total params: 13,376\n",
            "Trainable params: 13,376\n",
            "Non-trainable params: 0\n",
            "_________________________________________________________________\n"
          ]
        }
      ]
    },
    {
      "cell_type": "code",
      "source": [
        "model1 = Sequential()\n",
        "model1.add(Conv2D(8,(3,3),padding='same',activation = 'relu',input_shape=(1,28,28)))\n",
        "model1.add(MaxPool2D((2,2),padding = 'same'))\n",
        "model1.add(Conv2D(64,(3,3),padding='same',activation='relu'))\n",
        "model1.add(MaxPool2D((4,4),padding='same'))\n",
        "model1.add(Conv2D(10,(3,3),padding='same',activation = 'relu'))\n",
        "model1.add(MaxPool2D((2,2),padding='same'))\n",
        "model1.add(Conv2D(10,(3,3),padding='same',activation = 'softmax'))\n",
        "model1.add(MaxPool2D((4,4),padding = 'same'))\n",
        "model1.add(Flatten())\n",
        "model1.summary()"
      ],
      "metadata": {
        "id": "I2i5eGMIMvlA",
        "outputId": "4eb48e7b-c8d7-441d-aa0c-9f97ca989322",
        "colab": {
          "base_uri": "https://localhost:8080/"
        }
      },
      "execution_count": null,
      "outputs": [
        {
          "output_type": "stream",
          "name": "stdout",
          "text": [
            "Model: \"sequential_7\"\n",
            "_________________________________________________________________\n",
            " Layer (type)                Output Shape              Param #   \n",
            "=================================================================\n",
            " conv2d_17 (Conv2D)          (None, 1, 28, 8)          2024      \n",
            "                                                                 \n",
            " max_pooling2d_17 (MaxPoolin  (None, 1, 14, 8)         0         \n",
            " g2D)                                                            \n",
            "                                                                 \n",
            " conv2d_18 (Conv2D)          (None, 1, 14, 64)         4672      \n",
            "                                                                 \n",
            " max_pooling2d_18 (MaxPoolin  (None, 1, 4, 64)         0         \n",
            " g2D)                                                            \n",
            "                                                                 \n",
            " conv2d_19 (Conv2D)          (None, 1, 4, 10)          5770      \n",
            "                                                                 \n",
            " max_pooling2d_19 (MaxPoolin  (None, 1, 2, 10)         0         \n",
            " g2D)                                                            \n",
            "                                                                 \n",
            " conv2d_20 (Conv2D)          (None, 1, 2, 10)          910       \n",
            "                                                                 \n",
            " max_pooling2d_20 (MaxPoolin  (None, 1, 1, 10)         0         \n",
            " g2D)                                                            \n",
            "                                                                 \n",
            " flatten_3 (Flatten)         (None, 10)                0         \n",
            "                                                                 \n",
            "=================================================================\n",
            "Total params: 13,376\n",
            "Trainable params: 13,376\n",
            "Non-trainable params: 0\n",
            "_________________________________________________________________\n"
          ]
        }
      ]
    },
    {
      "cell_type": "code",
      "source": [
        "model.compile(loss = CategoricalCrossentropy(),optimizer = SGD(learning_rate  = .001), metrics = ['accuracy'])"
      ],
      "metadata": {
        "id": "20wYIRHJrIp1"
      },
      "execution_count": null,
      "outputs": []
    },
    {
      "cell_type": "code",
      "source": [
        "test_batch_size = len(y_test)\n",
        "train_batch_size = len(y_train)\n",
        "batch_size = test_batch_size + train_batch_size\n",
        "\n",
        "model.fit(x_train,y_train,\n",
        "          validation_data = (x_test,y_test),\n",
        "          epochs = 25,\n",
        "          batch_size = batch_size)"
      ],
      "metadata": {
        "id": "iN1CM3wprxsh",
        "outputId": "e3b89588-9d75-4d59-9368-1dce4746c598",
        "colab": {
          "base_uri": "https://localhost:8080/"
        }
      },
      "execution_count": null,
      "outputs": [
        {
          "output_type": "stream",
          "name": "stdout",
          "text": [
            "Epoch 1/25\n",
            "1/1 [==============================] - 7s 7s/step - loss: 14.3070 - accuracy: 0.1124 - val_loss: 14.2887 - val_accuracy: 0.1135\n",
            "Epoch 2/25\n",
            "1/1 [==============================] - 6s 6s/step - loss: 14.3070 - accuracy: 0.1124 - val_loss: 14.2887 - val_accuracy: 0.1135\n",
            "Epoch 3/25\n",
            "1/1 [==============================] - 5s 5s/step - loss: 14.3070 - accuracy: 0.1124 - val_loss: 14.2887 - val_accuracy: 0.1135\n",
            "Epoch 4/25\n",
            "1/1 [==============================] - 5s 5s/step - loss: 14.3070 - accuracy: 0.1124 - val_loss: 14.2887 - val_accuracy: 0.1135\n",
            "Epoch 5/25\n",
            "1/1 [==============================] - 5s 5s/step - loss: 14.3070 - accuracy: 0.1124 - val_loss: 14.2887 - val_accuracy: 0.1135\n",
            "Epoch 6/25\n",
            "1/1 [==============================] - 5s 5s/step - loss: 14.3070 - accuracy: 0.1124 - val_loss: 14.2887 - val_accuracy: 0.1135\n",
            "Epoch 7/25\n",
            "1/1 [==============================] - 6s 6s/step - loss: 14.3070 - accuracy: 0.1124 - val_loss: 14.2887 - val_accuracy: 0.1135\n",
            "Epoch 8/25\n",
            "1/1 [==============================] - 6s 6s/step - loss: 14.3070 - accuracy: 0.1124 - val_loss: 14.2887 - val_accuracy: 0.1135\n",
            "Epoch 9/25\n",
            "1/1 [==============================] - 6s 6s/step - loss: 14.3070 - accuracy: 0.1124 - val_loss: 14.2887 - val_accuracy: 0.1135\n",
            "Epoch 10/25\n",
            "1/1 [==============================] - 5s 5s/step - loss: 14.3070 - accuracy: 0.1124 - val_loss: 14.2887 - val_accuracy: 0.1135\n",
            "Epoch 11/25\n",
            "1/1 [==============================] - 5s 5s/step - loss: 14.3070 - accuracy: 0.1124 - val_loss: 14.2887 - val_accuracy: 0.1135\n",
            "Epoch 12/25\n",
            "1/1 [==============================] - 6s 6s/step - loss: 14.3070 - accuracy: 0.1124 - val_loss: 14.2887 - val_accuracy: 0.1135\n",
            "Epoch 13/25\n",
            "1/1 [==============================] - 4s 4s/step - loss: 14.3070 - accuracy: 0.1124 - val_loss: 14.2887 - val_accuracy: 0.1135\n",
            "Epoch 14/25\n",
            "1/1 [==============================] - 5s 5s/step - loss: 14.3070 - accuracy: 0.1124 - val_loss: 14.2887 - val_accuracy: 0.1135\n",
            "Epoch 15/25\n",
            "1/1 [==============================] - 6s 6s/step - loss: 14.3070 - accuracy: 0.1124 - val_loss: 14.2887 - val_accuracy: 0.1135\n",
            "Epoch 16/25\n",
            "1/1 [==============================] - 4s 4s/step - loss: 14.3070 - accuracy: 0.1124 - val_loss: 14.2887 - val_accuracy: 0.1135\n",
            "Epoch 17/25\n",
            "1/1 [==============================] - 6s 6s/step - loss: 14.3070 - accuracy: 0.1124 - val_loss: 14.2887 - val_accuracy: 0.1135\n",
            "Epoch 18/25\n",
            "1/1 [==============================] - 4s 4s/step - loss: 14.3070 - accuracy: 0.1124 - val_loss: 14.2887 - val_accuracy: 0.1135\n",
            "Epoch 19/25\n",
            "1/1 [==============================] - 5s 5s/step - loss: 14.3070 - accuracy: 0.1124 - val_loss: 14.2887 - val_accuracy: 0.1135\n",
            "Epoch 20/25\n",
            "1/1 [==============================] - 6s 6s/step - loss: 14.3070 - accuracy: 0.1124 - val_loss: 14.2887 - val_accuracy: 0.1135\n",
            "Epoch 21/25\n",
            "1/1 [==============================] - 4s 4s/step - loss: 14.3070 - accuracy: 0.1124 - val_loss: 14.2887 - val_accuracy: 0.1135\n",
            "Epoch 22/25\n",
            "1/1 [==============================] - 5s 5s/step - loss: 14.3070 - accuracy: 0.1124 - val_loss: 14.2887 - val_accuracy: 0.1135\n",
            "Epoch 23/25\n",
            "1/1 [==============================] - 5s 5s/step - loss: 14.3070 - accuracy: 0.1124 - val_loss: 14.2887 - val_accuracy: 0.1135\n",
            "Epoch 24/25\n",
            "1/1 [==============================] - 4s 4s/step - loss: 14.3070 - accuracy: 0.1124 - val_loss: 14.2887 - val_accuracy: 0.1135\n",
            "Epoch 25/25\n",
            "1/1 [==============================] - 6s 6s/step - loss: 14.3070 - accuracy: 0.1124 - val_loss: 14.2887 - val_accuracy: 0.1135\n"
          ]
        }
      ]
    },
    {
      "cell_type": "code",
      "source": [
        "model1.compile(loss = CategoricalCrossentropy(),optimizer = SGD(learning_rate  = .001), metrics = ['accuracy'])"
      ],
      "metadata": {
        "id": "WvijCmz-srP0"
      },
      "execution_count": null,
      "outputs": []
    },
    {
      "cell_type": "code",
      "source": [
        "test_batch_size = len(y_test)\n",
        "train_batch_size = len(y_train)\n",
        "batch_size = test_batch_size + train_batch_size\n",
        "\n",
        "model1.fit(x_train,y_train,\n",
        "          validation_data = (x_test,y_test),\n",
        "          epochs = 25,\n",
        "          batch_size = batch_size)"
      ],
      "metadata": {
        "id": "Ucll0rBcHQxo",
        "outputId": "61565019-fcdd-4aaf-8b86-aafce8270293",
        "colab": {
          "base_uri": "https://localhost:8080/"
        }
      },
      "execution_count": null,
      "outputs": [
        {
          "output_type": "stream",
          "name": "stdout",
          "text": [
            "Epoch 1/25\n",
            "1/1 [==============================] - 12s 12s/step - loss: 13.0192 - accuracy: 0.0987 - val_loss: 16.1181 - val_accuracy: 0.0980\n",
            "Epoch 2/25\n",
            "1/1 [==============================] - 6s 6s/step - loss: 16.1181 - accuracy: 0.0987 - val_loss: 16.1181 - val_accuracy: 0.0980\n",
            "Epoch 3/25\n",
            "1/1 [==============================] - 6s 6s/step - loss: 16.1181 - accuracy: 0.0987 - val_loss: 16.1181 - val_accuracy: 0.0980\n",
            "Epoch 4/25\n",
            "1/1 [==============================] - 4s 4s/step - loss: 16.1181 - accuracy: 0.0987 - val_loss: 16.1181 - val_accuracy: 0.0980\n",
            "Epoch 5/25\n",
            "1/1 [==============================] - 5s 5s/step - loss: 16.1181 - accuracy: 0.0987 - val_loss: 16.1181 - val_accuracy: 0.0980\n",
            "Epoch 6/25\n",
            "1/1 [==============================] - 4s 4s/step - loss: 16.1181 - accuracy: 0.0987 - val_loss: 16.1181 - val_accuracy: 0.0980\n",
            "Epoch 7/25\n",
            "1/1 [==============================] - 4s 4s/step - loss: 16.1181 - accuracy: 0.0987 - val_loss: 16.1181 - val_accuracy: 0.0980\n",
            "Epoch 8/25\n",
            "1/1 [==============================] - 5s 5s/step - loss: 16.1181 - accuracy: 0.0987 - val_loss: 16.1181 - val_accuracy: 0.0980\n",
            "Epoch 9/25\n",
            "1/1 [==============================] - 4s 4s/step - loss: 16.1181 - accuracy: 0.0987 - val_loss: 16.1181 - val_accuracy: 0.0980\n",
            "Epoch 10/25\n",
            "1/1 [==============================] - 4s 4s/step - loss: 16.1181 - accuracy: 0.0987 - val_loss: 16.1181 - val_accuracy: 0.0980\n",
            "Epoch 11/25\n",
            "1/1 [==============================] - 5s 5s/step - loss: 16.1181 - accuracy: 0.0987 - val_loss: 16.1181 - val_accuracy: 0.0980\n",
            "Epoch 12/25\n",
            "1/1 [==============================] - 4s 4s/step - loss: 16.1181 - accuracy: 0.0987 - val_loss: 16.1181 - val_accuracy: 0.0980\n",
            "Epoch 13/25\n",
            "1/1 [==============================] - 4s 4s/step - loss: 16.1181 - accuracy: 0.0987 - val_loss: 16.1181 - val_accuracy: 0.0980\n",
            "Epoch 14/25\n",
            "1/1 [==============================] - 5s 5s/step - loss: 16.1181 - accuracy: 0.0987 - val_loss: 16.1181 - val_accuracy: 0.0980\n",
            "Epoch 15/25\n",
            "1/1 [==============================] - 4s 4s/step - loss: 16.1181 - accuracy: 0.0987 - val_loss: 16.1181 - val_accuracy: 0.0980\n",
            "Epoch 16/25\n",
            "1/1 [==============================] - 4s 4s/step - loss: 16.1181 - accuracy: 0.0987 - val_loss: 16.1181 - val_accuracy: 0.0980\n",
            "Epoch 17/25\n",
            "1/1 [==============================] - 5s 5s/step - loss: 16.1181 - accuracy: 0.0987 - val_loss: 16.1181 - val_accuracy: 0.0980\n",
            "Epoch 18/25\n",
            "1/1 [==============================] - 4s 4s/step - loss: 16.1181 - accuracy: 0.0987 - val_loss: 16.1181 - val_accuracy: 0.0980\n",
            "Epoch 19/25\n",
            "1/1 [==============================] - 5s 5s/step - loss: 16.1181 - accuracy: 0.0987 - val_loss: 16.1181 - val_accuracy: 0.0980\n",
            "Epoch 20/25\n",
            "1/1 [==============================] - 4s 4s/step - loss: 16.1181 - accuracy: 0.0987 - val_loss: 16.1181 - val_accuracy: 0.0980\n",
            "Epoch 21/25\n",
            "1/1 [==============================] - 4s 4s/step - loss: 16.1181 - accuracy: 0.0987 - val_loss: 16.1181 - val_accuracy: 0.0980\n",
            "Epoch 22/25\n",
            "1/1 [==============================] - 5s 5s/step - loss: 16.1181 - accuracy: 0.0987 - val_loss: 16.1181 - val_accuracy: 0.0980\n",
            "Epoch 23/25\n",
            "1/1 [==============================] - 4s 4s/step - loss: 16.1181 - accuracy: 0.0987 - val_loss: 16.1181 - val_accuracy: 0.0980\n",
            "Epoch 24/25\n",
            "1/1 [==============================] - 4s 4s/step - loss: 16.1181 - accuracy: 0.0987 - val_loss: 16.1181 - val_accuracy: 0.0980\n",
            "Epoch 25/25\n",
            "1/1 [==============================] - 5s 5s/step - loss: 16.1181 - accuracy: 0.0987 - val_loss: 16.1181 - val_accuracy: 0.0980\n"
          ]
        },
        {
          "output_type": "execute_result",
          "data": {
            "text/plain": [
              "<keras.callbacks.History at 0x7f68c27d4b20>"
            ]
          },
          "metadata": {},
          "execution_count": 15
        }
      ]
    },
    {
      "cell_type": "code",
      "source": [],
      "metadata": {
        "id": "Lg_qDb-yHTOz",
        "outputId": "7e8b0454-d5f2-444d-c6c5-b7cb8d32ae38",
        "colab": {
          "base_uri": "https://localhost:8080/"
        }
      },
      "execution_count": null,
      "outputs": [
        {
          "output_type": "stream",
          "name": "stderr",
          "text": [
            "WARNING:tensorflow:Compiled the loaded model, but the compiled metrics have yet to be built. `model.compile_metrics` will be empty until you train or evaluate the model.\n"
          ]
        },
        {
          "output_type": "stream",
          "name": "stdout",
          "text": [
            "Model Saved!\n"
          ]
        }
      ]
    },
    {
      "cell_type": "markdown",
      "source": [
        "## Saving Models "
      ],
      "metadata": {
        "id": "ZumgvQuMAqfv"
      }
    },
    {
      "cell_type": "markdown",
      "source": [
        "#### Create and Display Model checkpoints"
      ],
      "metadata": {
        "id": "J9pUBQm3B9gl"
      }
    },
    {
      "cell_type": "code",
      "source": [
        "checkpoint_path = \"\"\n",
        "checkpoint_dir = os.path.dirname(checkpoint_path)\n",
        "\n",
        "# Create a callback that saves the model's weights\n",
        "\n",
        "cp_callback = tensorflow.keras.callbacks.ModelCheckpoint(filepath=checkpoint_path,save_weights_only=True,verbose=1)\n",
        "\n",
        "'''\n",
        "\n",
        "model.fit(train_images, \n",
        "          train_labels,  \n",
        "          epochs=10,\n",
        "          validation_data=(test_images, test_labels),\n",
        "          callbacks=[cp_callback]) \n",
        "\n",
        "'''"
      ],
      "metadata": {
        "id": "lryvxz5PB9sT"
      },
      "execution_count": null,
      "outputs": []
    },
    {
      "cell_type": "markdown",
      "source": [
        "#### Load and Save Weights"
      ],
      "metadata": {
        "id": "sJnEYK63CMHv"
      }
    },
    {
      "cell_type": "code",
      "source": [],
      "metadata": {
        "id": "3UVE6DU3CsY5"
      },
      "execution_count": null,
      "outputs": []
    },
    {
      "cell_type": "markdown",
      "source": [
        "#### Load and Save HDF5 Files"
      ],
      "metadata": {
        "id": "1K4fRFsNBFYE"
      }
    },
    {
      "cell_type": "code",
      "source": [
        "model.compiled_metrics = None\n",
        "model.save('mnistmodel.h5')\n",
        "print('Model Saved!')"
      ],
      "metadata": {
        "id": "kzIcMzelRCk8"
      },
      "execution_count": null,
      "outputs": []
    }
  ]
}