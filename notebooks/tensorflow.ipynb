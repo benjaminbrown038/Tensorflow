{
  "nbformat": 4,
  "nbformat_minor": 0,
  "metadata": {
    "colab": {
      "provenance": [],
      "authorship_tag": "ABX9TyNzqk9T0xhqxsCqcQa3VeY2",
      "include_colab_link": true
    },
    "kernelspec": {
      "name": "python3",
      "display_name": "Python 3"
    },
    "language_info": {
      "name": "python"
    }
  },
  "cells": [
    {
      "cell_type": "markdown",
      "metadata": {
        "id": "view-in-github",
        "colab_type": "text"
      },
      "source": [
        "<a href=\"https://colab.research.google.com/github/benjaminbrown038/Tensorflow-Keras/blob/main/notebooks/tensorflow.ipynb\" target=\"_parent\"><img src=\"https://colab.research.google.com/assets/colab-badge.svg\" alt=\"Open In Colab\"/></a>"
      ]
    },
    {
      "cell_type": "markdown",
      "source": [
        "## Tensorflow Tutorial\n",
        "This is using data, models, metrics, optimizers to master machine learning.. creating a tutorial on it.. :) enjoy\n",
        "\n",
        "[Imports](#imports)\n",
        "\n",
        "\n",
        "[Data](#data)\n",
        "\n",
        "\n",
        "[Models](#models)"
      ],
      "metadata": {
        "id": "u1NT-BY524G8"
      }
    },
    {
      "cell_type": "markdown",
      "source": [
        "Libraries, Methods, Functions and Modules"
      ],
      "metadata": {
        "id": "idPeLA-wOZo6"
      }
    },
    {
      "cell_type": "markdown",
      "source": [
        "Imports"
      ],
      "metadata": {
        "id": "4831a7dlggo-"
      }
    },
    {
      "cell_type": "code",
      "source": [
        "import tensorflow\n",
        "from tensorflow.keras.models import Sequential\n",
        "from tensorflow.keras.layers import Conv2D, MaxPool2D, Flatten, Dense\n",
        "from tensorflow.keras.losses import CategoricalCrossentropy\n",
        "from tensorflow.keras.optimizers import Adadelta, Adam, SGD\n",
        "from tensorflow.keras.datasets import mnist\n",
        "from tensorflow.keras.utils import to_categorical\n",
        "from tensorflow.keras.metrics import Accuracy\n",
        "import os"
      ],
      "metadata": {
        "id": "NpY0IurI24pB"
      },
      "execution_count": 2,
      "outputs": []
    },
    {
      "cell_type": "markdown",
      "source": [
        "### Data"
      ],
      "metadata": {
        "id": "G0PLNc_DO7HC"
      }
    },
    {
      "cell_type": "markdown",
      "source": [
        "Tabular Data"
      ],
      "metadata": {
        "id": "TWxAIPswSS-V"
      }
    },
    {
      "cell_type": "code",
      "source": [
        "%%capture\n",
        "import tensorflow as tf\n",
        "from tensorflow.keras.datasets.boston_housing import load_data\n",
        "\n",
        "(x_train,y_train),(x_test,y_test) = load_data()"
      ],
      "metadata": {
        "id": "wE_IzQngSTHL"
      },
      "execution_count": 3,
      "outputs": []
    },
    {
      "cell_type": "code",
      "source": [
        "print(x_train.shape)\n",
        "print(y_train.shape)\n",
        "print(x_test.shape)\n",
        "print(y_test.shape)"
      ],
      "metadata": {
        "id": "fjxJtvJBll6h",
        "outputId": "d7fa833b-85d1-42f2-c097-c1460c8ba9bf",
        "colab": {
          "base_uri": "https://localhost:8080/"
        }
      },
      "execution_count": 14,
      "outputs": [
        {
          "output_type": "stream",
          "name": "stdout",
          "text": [
            "(404, 13)\n",
            "(404,)\n",
            "(102, 13)\n",
            "(102,)\n",
            "[  1.23247   0.        8.14      0.        0.538     6.142    91.7\n",
            "   3.9769    4.      307.       21.      396.9      18.72   ]\n"
          ]
        }
      ]
    },
    {
      "cell_type": "code",
      "source": [
        "x_train.features"
      ],
      "metadata": {
        "id": "skEoodu7lmE5",
        "outputId": "8d5dad57-f4b0-40ad-b388-747fe3393d62",
        "colab": {
          "base_uri": "https://localhost:8080/",
          "height": 169
        }
      },
      "execution_count": 9,
      "outputs": [
        {
          "output_type": "error",
          "ename": "AttributeError",
          "evalue": "ignored",
          "traceback": [
            "\u001b[0;31m---------------------------------------------------------------------------\u001b[0m",
            "\u001b[0;31mAttributeError\u001b[0m                            Traceback (most recent call last)",
            "\u001b[0;32m<ipython-input-9-6d19d8b2516c>\u001b[0m in \u001b[0;36m<cell line: 1>\u001b[0;34m()\u001b[0m\n\u001b[0;32m----> 1\u001b[0;31m \u001b[0mx_train\u001b[0m\u001b[0;34m.\u001b[0m\u001b[0mfeatures\u001b[0m\u001b[0;34m\u001b[0m\u001b[0;34m\u001b[0m\u001b[0m\n\u001b[0m",
            "\u001b[0;31mAttributeError\u001b[0m: 'numpy.ndarray' object has no attribute 'features'"
          ]
        }
      ]
    },
    {
      "cell_type": "code",
      "source": [],
      "metadata": {
        "id": "1xU2zxbslmP2"
      },
      "execution_count": null,
      "outputs": []
    },
    {
      "cell_type": "markdown",
      "source": [
        "MNIST Training and Testing Data"
      ],
      "metadata": {
        "id": "1c0SU2Xj3CvX"
      }
    },
    {
      "cell_type": "code",
      "source": [
        "%%capture\n",
        "(x_train,y_train),(x_test,y_test) = mnist.load_data()\n",
        "x_train = x_train.reshape(x_train.shape[0],1,28,28)\n",
        "x_test = x_test.reshape(x_test.shape[0],1,28,28)\n",
        "x_train = x_train.astype('float32')\n",
        "x_test = x_test.astype('float32')\n",
        "x_train /= x_train\n",
        "x_test /= x_test\n",
        "y_train = to_categorical(y_train,10)\n",
        "y_test = to_categorical(y_test,10)"
      ],
      "metadata": {
        "id": "nvO2ST8L9QdQ"
      },
      "execution_count": null,
      "outputs": []
    },
    {
      "cell_type": "markdown",
      "source": [
        "### Models"
      ],
      "metadata": {
        "id": "8-A3QAuIO9dU"
      }
    },
    {
      "cell_type": "markdown",
      "source": [
        "Model 1"
      ],
      "metadata": {
        "id": "RKQ7rQuB3HC3"
      }
    },
    {
      "cell_type": "code",
      "source": [
        "model = Sequential()\n",
        "model.add(Conv2D(8,(3,3),padding='same',activation = 'relu',input_shape=(1,28,28)))\n",
        "model.add(MaxPool2D((2,2),padding = 'same'))\n",
        "model.add(Conv2D(64,(3,3),padding='same',activation='relu'))\n",
        "model.add(MaxPool2D((4,4),padding='same'))\n",
        "model.add(Conv2D(10,(3,3),padding='same',activation = 'relu'))\n",
        "model.add(MaxPool2D((2,2),padding='same'))\n",
        "model.add(Conv2D(10,(3,3),padding='same',activation = 'softmax'))\n",
        "model.add(MaxPool2D((4,4),padding = 'same'))\n",
        "model.add(Flatten())\n",
        "model.summary()"
      ],
      "metadata": {
        "id": "Ij3GJk-xMvhb",
        "outputId": "9479411e-acac-4dc7-8e2a-ee5773b681e8",
        "colab": {
          "base_uri": "https://localhost:8080/"
        }
      },
      "execution_count": null,
      "outputs": [
        {
          "output_type": "stream",
          "name": "stdout",
          "text": [
            "Model: \"sequential\"\n",
            "_________________________________________________________________\n",
            " Layer (type)                Output Shape              Param #   \n",
            "=================================================================\n",
            " conv2d (Conv2D)             (None, 1, 28, 8)          2024      \n",
            "                                                                 \n",
            " max_pooling2d (MaxPooling2D  (None, 1, 14, 8)         0         \n",
            " )                                                               \n",
            "                                                                 \n",
            " conv2d_1 (Conv2D)           (None, 1, 14, 64)         4672      \n",
            "                                                                 \n",
            " max_pooling2d_1 (MaxPooling  (None, 1, 4, 64)         0         \n",
            " 2D)                                                             \n",
            "                                                                 \n",
            " conv2d_2 (Conv2D)           (None, 1, 4, 10)          5770      \n",
            "                                                                 \n",
            " max_pooling2d_2 (MaxPooling  (None, 1, 2, 10)         0         \n",
            " 2D)                                                             \n",
            "                                                                 \n",
            " conv2d_3 (Conv2D)           (None, 1, 2, 10)          910       \n",
            "                                                                 \n",
            " max_pooling2d_3 (MaxPooling  (None, 1, 1, 10)         0         \n",
            " 2D)                                                             \n",
            "                                                                 \n",
            " flatten (Flatten)           (None, 10)                0         \n",
            "                                                                 \n",
            "=================================================================\n",
            "Total params: 13,376\n",
            "Trainable params: 13,376\n",
            "Non-trainable params: 0\n",
            "_________________________________________________________________\n"
          ]
        }
      ]
    },
    {
      "cell_type": "markdown",
      "source": [
        "Model 2"
      ],
      "metadata": {
        "id": "cua8JMku3fWk"
      }
    },
    {
      "cell_type": "code",
      "source": [
        "model1 = Sequential()\n",
        "model1.add(Conv2D(8,(3,3),padding='same',activation = 'relu',input_shape=(1,28,28)))\n",
        "model1.add(MaxPool2D((2,2),padding = 'same'))\n",
        "model1.add(Conv2D(64,(3,3),padding='same',activation='relu'))\n",
        "model1.add(MaxPool2D((4,4),padding='same'))\n",
        "model1.add(Conv2D(10,(3,3),padding='same',activation = 'relu'))\n",
        "model1.add(MaxPool2D((2,2),padding='same'))\n",
        "model1.add(Conv2D(10,(3,3),padding='same',activation = 'softmax'))\n",
        "model1.add(MaxPool2D((4,4),padding = 'same'))\n",
        "model1.add(Flatten())\n",
        "model1.summary()"
      ],
      "metadata": {
        "id": "I2i5eGMIMvlA",
        "outputId": "450b7fc4-c62b-46e5-c715-743215bf9362",
        "colab": {
          "base_uri": "https://localhost:8080/"
        }
      },
      "execution_count": null,
      "outputs": [
        {
          "output_type": "stream",
          "name": "stdout",
          "text": [
            "Model: \"sequential_1\"\n",
            "_________________________________________________________________\n",
            " Layer (type)                Output Shape              Param #   \n",
            "=================================================================\n",
            " conv2d_4 (Conv2D)           (None, 1, 28, 8)          2024      \n",
            "                                                                 \n",
            " max_pooling2d_4 (MaxPooling  (None, 1, 14, 8)         0         \n",
            " 2D)                                                             \n",
            "                                                                 \n",
            " conv2d_5 (Conv2D)           (None, 1, 14, 64)         4672      \n",
            "                                                                 \n",
            " max_pooling2d_5 (MaxPooling  (None, 1, 4, 64)         0         \n",
            " 2D)                                                             \n",
            "                                                                 \n",
            " conv2d_6 (Conv2D)           (None, 1, 4, 10)          5770      \n",
            "                                                                 \n",
            " max_pooling2d_6 (MaxPooling  (None, 1, 2, 10)         0         \n",
            " 2D)                                                             \n",
            "                                                                 \n",
            " conv2d_7 (Conv2D)           (None, 1, 2, 10)          910       \n",
            "                                                                 \n",
            " max_pooling2d_7 (MaxPooling  (None, 1, 1, 10)         0         \n",
            " 2D)                                                             \n",
            "                                                                 \n",
            " flatten_1 (Flatten)         (None, 10)                0         \n",
            "                                                                 \n",
            "=================================================================\n",
            "Total params: 13,376\n",
            "Trainable params: 13,376\n",
            "Non-trainable params: 0\n",
            "_________________________________________________________________\n"
          ]
        }
      ]
    },
    {
      "cell_type": "markdown",
      "source": [
        "#### Create and Display Model Checkpoints\n",
        "\n",
        "- This can be done in the midst of the fit method or it can be done in a seperate notebook terminal.\n",
        "\n",
        "- I will display the result of doing it both ways."
      ],
      "metadata": {
        "id": "KxEkfRwmPsfw"
      }
    },
    {
      "cell_type": "markdown",
      "source": [
        "Compile (Model 1)"
      ],
      "metadata": {
        "id": "_OmPgroi3hUm"
      }
    },
    {
      "cell_type": "code",
      "source": [
        "model.compile(loss = CategoricalCrossentropy(),\n",
        "              optimizer = SGD(learning_rate  = .001)\n",
        "              , metrics = ['accuracy'])"
      ],
      "metadata": {
        "id": "20wYIRHJrIp1"
      },
      "execution_count": null,
      "outputs": []
    },
    {
      "cell_type": "markdown",
      "source": [
        "Build (Model 1)"
      ],
      "metadata": {
        "id": "JPqI8WBagE32"
      }
    },
    {
      "cell_type": "code",
      "source": [
        "%%capture\n",
        "model.fit(x_train,y_train,\n",
        "          validation_data = (x_test,y_test),\n",
        "          epochs = 25,\n",
        "          batch_size = batch_size)"
      ],
      "metadata": {
        "id": "iN1CM3wprxsh"
      },
      "execution_count": null,
      "outputs": []
    },
    {
      "cell_type": "markdown",
      "source": [
        "Compile (Model 2)"
      ],
      "metadata": {
        "id": "aUc71ZjJ3pTi"
      }
    },
    {
      "cell_type": "code",
      "source": [
        "model1.compile(loss = CategoricalCrossentropy(),\n",
        "               optimizer = SGD(learning_rate  = .001),\n",
        "               metrics = ['accuracy'])"
      ],
      "metadata": {
        "id": "WvijCmz-srP0"
      },
      "execution_count": null,
      "outputs": []
    },
    {
      "cell_type": "markdown",
      "source": [
        "Build (Model 2)"
      ],
      "metadata": {
        "id": "wLoR5AHKgGWr"
      }
    },
    {
      "cell_type": "code",
      "source": [
        "%%capture\n",
        "model1.fit(x_train,y_train,\n",
        "          validation_data = (x_test,y_test),\n",
        "          epochs = 25,\n",
        "          batch_size = batch_size)"
      ],
      "metadata": {
        "id": "Ucll0rBcHQxo"
      },
      "execution_count": null,
      "outputs": []
    },
    {
      "cell_type": "markdown",
      "source": [
        "Checkpoint path and callback calls (Model 1)"
      ],
      "metadata": {
        "id": "J9pUBQm3B9gl"
      }
    },
    {
      "cell_type": "code",
      "source": [
        "checkpoint_path = \"/content\"\n",
        "checkpoint_dir = os.path.dirname(checkpoint_path)\n",
        "cp_callback = tensorflow.keras.callbacks.ModelCheckpoint(filepath=checkpoint_path,save_weights_only=True,verbose=1)\n",
        "model.fit(x_train,\n",
        "          y_train,\n",
        "          epochs=10,\n",
        "          validation_data=(x_test, y_test),\n",
        "          callbacks=[cp_callback])"
      ],
      "metadata": {
        "id": "lryvxz5PB9sT",
        "outputId": "39fcf9e8-3cff-441b-e851-001c2d8b226e",
        "colab": {
          "base_uri": "https://localhost:8080/"
        }
      },
      "execution_count": null,
      "outputs": [
        {
          "output_type": "stream",
          "name": "stdout",
          "text": [
            "Epoch 1/10\n",
            "1869/1875 [============================>.] - ETA: 0s - loss: 14.5217 - accuracy: 0.0991\n",
            "Epoch 1: saving model to /content\n",
            "1875/1875 [==============================] - 14s 8ms/step - loss: 14.5201 - accuracy: 0.0992 - val_loss: 14.4918 - val_accuracy: 0.1009\n",
            "Epoch 2/10\n",
            "1873/1875 [============================>.] - ETA: 0s - loss: 14.5197 - accuracy: 0.0992\n",
            "Epoch 2: saving model to /content\n",
            "1875/1875 [==============================] - 14s 8ms/step - loss: 14.5201 - accuracy: 0.0992 - val_loss: 14.4918 - val_accuracy: 0.1009\n",
            "Epoch 3/10\n",
            "1875/1875 [==============================] - ETA: 0s - loss: 14.5201 - accuracy: 0.0992\n",
            "Epoch 3: saving model to /content\n",
            "1875/1875 [==============================] - 15s 8ms/step - loss: 14.5201 - accuracy: 0.0992 - val_loss: 14.4918 - val_accuracy: 0.1009\n",
            "Epoch 4/10\n",
            "1872/1875 [============================>.] - ETA: 0s - loss: 14.5208 - accuracy: 0.0991\n",
            "Epoch 4: saving model to /content\n",
            "1875/1875 [==============================] - 14s 7ms/step - loss: 14.5201 - accuracy: 0.0992 - val_loss: 14.4918 - val_accuracy: 0.1009\n",
            "Epoch 5/10\n",
            "1874/1875 [============================>.] - ETA: 0s - loss: 14.5201 - accuracy: 0.0992\n",
            "Epoch 5: saving model to /content\n",
            "1875/1875 [==============================] - 16s 9ms/step - loss: 14.5201 - accuracy: 0.0992 - val_loss: 14.4918 - val_accuracy: 0.1009\n",
            "Epoch 6/10\n",
            "1872/1875 [============================>.] - ETA: 0s - loss: 14.5208 - accuracy: 0.0991\n",
            "Epoch 6: saving model to /content\n",
            "1875/1875 [==============================] - 14s 7ms/step - loss: 14.5201 - accuracy: 0.0992 - val_loss: 14.4918 - val_accuracy: 0.1009\n",
            "Epoch 7/10\n",
            "1872/1875 [============================>.] - ETA: 0s - loss: 14.5197 - accuracy: 0.0992\n",
            "Epoch 7: saving model to /content\n",
            "1875/1875 [==============================] - 15s 8ms/step - loss: 14.5201 - accuracy: 0.0992 - val_loss: 14.4918 - val_accuracy: 0.1009\n",
            "Epoch 8/10\n",
            "1871/1875 [============================>.] - ETA: 0s - loss: 14.5202 - accuracy: 0.0991\n",
            "Epoch 8: saving model to /content\n",
            "1875/1875 [==============================] - 14s 8ms/step - loss: 14.5201 - accuracy: 0.0992 - val_loss: 14.4918 - val_accuracy: 0.1009\n",
            "Epoch 9/10\n",
            "1871/1875 [============================>.] - ETA: 0s - loss: 14.5210 - accuracy: 0.0991\n",
            "Epoch 9: saving model to /content\n",
            "1875/1875 [==============================] - 15s 8ms/step - loss: 14.5201 - accuracy: 0.0992 - val_loss: 14.4918 - val_accuracy: 0.1009\n",
            "Epoch 10/10\n",
            "1869/1875 [============================>.] - ETA: 0s - loss: 14.5193 - accuracy: 0.0992\n",
            "Epoch 10: saving model to /content\n",
            "1875/1875 [==============================] - 14s 7ms/step - loss: 14.5201 - accuracy: 0.0992 - val_loss: 14.4918 - val_accuracy: 0.1009\n"
          ]
        },
        {
          "output_type": "execute_result",
          "data": {
            "text/plain": [
              "<keras.callbacks.History at 0x7fc7a3163520>"
            ]
          },
          "metadata": {},
          "execution_count": 12
        }
      ]
    },
    {
      "cell_type": "markdown",
      "source": [],
      "metadata": {
        "id": "_lcbGh6_RBgl"
      }
    },
    {
      "cell_type": "code",
      "source": [
        "os.listdir(checkpoint_dir)\n",
        "loss, acc = model.evaluate(x_test, y_test, verbose=2)\n",
        "print(\"Untrained model, accuracy: {:5.2f}%\".format(100 * acc))"
      ],
      "metadata": {
        "id": "HDwdu--P46w4",
        "outputId": "a68610a5-000c-4af9-ae37-999bc275a680",
        "colab": {
          "base_uri": "https://localhost:8080/"
        }
      },
      "execution_count": null,
      "outputs": [
        {
          "output_type": "stream",
          "name": "stdout",
          "text": [
            "313/313 - 1s - loss: 14.4918 - accuracy: 0.1009 - 828ms/epoch - 3ms/step\n",
            "Untrained model, accuracy: 10.09%\n"
          ]
        }
      ]
    },
    {
      "cell_type": "markdown",
      "source": [],
      "metadata": {
        "id": "tfHogihORCcd"
      }
    },
    {
      "cell_type": "code",
      "source": [
        "model.load_weights(checkpoint_path)\n",
        "loss, acc = model.evaluate(x_test, y_test, verbose=2)\n",
        "print(\"Restored model, accuracy: {:5.2f}%\".format(100 * acc))"
      ],
      "metadata": {
        "id": "CpMN4HYm6Fhj",
        "outputId": "ea34ee4f-6d56-4148-93cf-809e611612db",
        "colab": {
          "base_uri": "https://localhost:8080/"
        }
      },
      "execution_count": null,
      "outputs": [
        {
          "output_type": "stream",
          "name": "stdout",
          "text": [
            "313/313 - 1s - loss: 16.1181 - accuracy: 0.0980 - 792ms/epoch - 3ms/step\n",
            "Restored model, accuracy:  9.80%\n"
          ]
        }
      ]
    },
    {
      "cell_type": "markdown",
      "source": [],
      "metadata": {
        "id": "nPKhJ83JRDM6"
      }
    },
    {
      "cell_type": "code",
      "source": [
        "checkpoint_path = \"/content\"\n",
        "checkpoint_dir = os.path.dirname(checkpoint_path)\n",
        "cp_callback = tensorflow.keras.callbacks.ModelCheckpoint(filepath=checkpoint_path,save_weights_only=True,verbose=1)\n",
        "model1.fit(x_train,\n",
        "          y_train,\n",
        "          epochs=10,\n",
        "          validation_data=(x_test, y_test),\n",
        "          callbacks=[cp_callback])"
      ],
      "metadata": {
        "id": "Z7I1rHUw3jRH",
        "outputId": "2c555378-09a9-4a93-db17-4fcd03a13ab3",
        "colab": {
          "base_uri": "https://localhost:8080/"
        }
      },
      "execution_count": null,
      "outputs": [
        {
          "output_type": "stream",
          "name": "stdout",
          "text": [
            "Epoch 1/10\n",
            "1873/1875 [============================>.] - ETA: 0s - loss: 16.1164 - accuracy: 0.0987\n",
            "Epoch 1: saving model to /content\n",
            "1875/1875 [==============================] - 15s 7ms/step - loss: 16.1164 - accuracy: 0.0987 - val_loss: 16.1181 - val_accuracy: 0.0980\n",
            "Epoch 2/10\n",
            "1875/1875 [==============================] - ETA: 0s - loss: 16.1177 - accuracy: 0.0987\n",
            "Epoch 2: saving model to /content\n",
            "1875/1875 [==============================] - 14s 7ms/step - loss: 16.1177 - accuracy: 0.0987 - val_loss: 16.1181 - val_accuracy: 0.0980\n",
            "Epoch 3/10\n",
            "1868/1875 [============================>.] - ETA: 0s - loss: 16.1177 - accuracy: 0.0987\n",
            "Epoch 3: saving model to /content\n",
            "1875/1875 [==============================] - 14s 7ms/step - loss: 16.1177 - accuracy: 0.0987 - val_loss: 16.1181 - val_accuracy: 0.0980\n",
            "Epoch 4/10\n",
            "1870/1875 [============================>.] - ETA: 0s - loss: 16.1177 - accuracy: 0.0986\n",
            "Epoch 4: saving model to /content\n",
            "1875/1875 [==============================] - 15s 8ms/step - loss: 16.1177 - accuracy: 0.0987 - val_loss: 16.1181 - val_accuracy: 0.0980\n",
            "Epoch 5/10\n",
            "1868/1875 [============================>.] - ETA: 0s - loss: 16.1177 - accuracy: 0.0988\n",
            "Epoch 5: saving model to /content\n",
            "1875/1875 [==============================] - 14s 8ms/step - loss: 16.1177 - accuracy: 0.0987 - val_loss: 16.1181 - val_accuracy: 0.0980\n",
            "Epoch 6/10\n",
            "1873/1875 [============================>.] - ETA: 0s - loss: 16.1177 - accuracy: 0.0987\n",
            "Epoch 6: saving model to /content\n",
            "1875/1875 [==============================] - 14s 8ms/step - loss: 16.1177 - accuracy: 0.0987 - val_loss: 16.1181 - val_accuracy: 0.0980\n",
            "Epoch 7/10\n",
            "1868/1875 [============================>.] - ETA: 0s - loss: 16.1177 - accuracy: 0.0987\n",
            "Epoch 7: saving model to /content\n",
            "1875/1875 [==============================] - 14s 7ms/step - loss: 16.1177 - accuracy: 0.0987 - val_loss: 16.1181 - val_accuracy: 0.0980\n",
            "Epoch 8/10\n",
            "1869/1875 [============================>.] - ETA: 0s - loss: 16.1177 - accuracy: 0.0986\n",
            "Epoch 8: saving model to /content\n",
            "1875/1875 [==============================] - 14s 8ms/step - loss: 16.1177 - accuracy: 0.0987 - val_loss: 16.1181 - val_accuracy: 0.0980\n",
            "Epoch 9/10\n",
            "1870/1875 [============================>.] - ETA: 0s - loss: 16.1177 - accuracy: 0.0986\n",
            "Epoch 9: saving model to /content\n",
            "1875/1875 [==============================] - 14s 8ms/step - loss: 16.1177 - accuracy: 0.0987 - val_loss: 16.1181 - val_accuracy: 0.0980\n",
            "Epoch 10/10\n",
            "1871/1875 [============================>.] - ETA: 0s - loss: 16.1177 - accuracy: 0.0988\n",
            "Epoch 10: saving model to /content\n",
            "1875/1875 [==============================] - 15s 8ms/step - loss: 16.1177 - accuracy: 0.0987 - val_loss: 16.1181 - val_accuracy: 0.0980\n"
          ]
        },
        {
          "output_type": "execute_result",
          "data": {
            "text/plain": [
              "<keras.callbacks.History at 0x7fc75c7cd480>"
            ]
          },
          "metadata": {},
          "execution_count": 18
        }
      ]
    },
    {
      "cell_type": "markdown",
      "source": [],
      "metadata": {
        "id": "dqQswLnSRExt"
      }
    },
    {
      "cell_type": "code",
      "source": [
        "os.listdir(checkpoint_dir)\n",
        "loss, acc = model1.evaluate(x_test, y_test, verbose=2)\n",
        "print(\"Untrained model, accuracy: {:5.2f}%\".format(100 * acc))"
      ],
      "metadata": {
        "id": "hzDMvqGb56IJ",
        "outputId": "7f7e92bb-f94e-41c5-b5d5-1d28c51a248a",
        "colab": {
          "base_uri": "https://localhost:8080/"
        }
      },
      "execution_count": null,
      "outputs": [
        {
          "output_type": "stream",
          "name": "stdout",
          "text": [
            "313/313 - 1s - loss: 16.1181 - accuracy: 0.0980 - 815ms/epoch - 3ms/step\n",
            "Untrained model, accuracy:  9.80%\n"
          ]
        }
      ]
    },
    {
      "cell_type": "markdown",
      "source": [],
      "metadata": {
        "id": "3H6jvoYsRFlA"
      }
    },
    {
      "cell_type": "code",
      "source": [
        "model1.load_weights(checkpoint_path)\n",
        "loss, acc = model.evaluate(x_test, y_test, verbose=2)\n",
        "print(\"Restored model, accuracy: {:5.2f}%\".format(100 * acc))"
      ],
      "metadata": {
        "id": "CN1qoJlU_GAG",
        "outputId": "c1ef0112-b01b-4fdd-841a-815c8a059c76",
        "colab": {
          "base_uri": "https://localhost:8080/"
        }
      },
      "execution_count": null,
      "outputs": [
        {
          "output_type": "stream",
          "name": "stdout",
          "text": [
            "313/313 - 2s - loss: 16.1181 - accuracy: 0.0980 - 2s/epoch - 8ms/step\n",
            "Restored model, accuracy:  9.80%\n"
          ]
        }
      ]
    },
    {
      "cell_type": "markdown",
      "source": [],
      "metadata": {
        "id": "kOoI2NULRGS1"
      }
    },
    {
      "cell_type": "markdown",
      "source": [
        "#### Load and Save Weights"
      ],
      "metadata": {
        "id": "sJnEYK63CMHv"
      }
    },
    {
      "cell_type": "code",
      "source": [],
      "metadata": {
        "id": "3UVE6DU3CsY5"
      },
      "execution_count": null,
      "outputs": []
    },
    {
      "cell_type": "markdown",
      "source": [
        "#### Load and Save HDF5 Files"
      ],
      "metadata": {
        "id": "1K4fRFsNBFYE"
      }
    },
    {
      "cell_type": "code",
      "source": [
        "model.compiled_metrics = None\n",
        "model.save('mnistmodel.h5')\n",
        "print('Model Saved!')"
      ],
      "metadata": {
        "id": "kzIcMzelRCk8"
      },
      "execution_count": null,
      "outputs": []
    }
  ]
}