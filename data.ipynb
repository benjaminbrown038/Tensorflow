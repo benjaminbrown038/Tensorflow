{
  "nbformat": 4,
  "nbformat_minor": 0,
  "metadata": {
    "colab": {
      "provenance": [],
      "authorship_tag": "ABX9TyP91ArBNlnzWCREiudd70p+",
      "include_colab_link": true
    },
    "kernelspec": {
      "name": "python3",
      "display_name": "Python 3"
    },
    "language_info": {
      "name": "python"
    }
  },
  "cells": [
    {
      "cell_type": "markdown",
      "metadata": {
        "id": "view-in-github",
        "colab_type": "text"
      },
      "source": [
        "<a href=\"https://colab.research.google.com/github/benjaminbrown038/Tensorflow/blob/main/data.ipynb\" target=\"_parent\"><img src=\"https://colab.research.google.com/assets/colab-badge.svg\" alt=\"Open In Colab\"/></a>"
      ]
    },
    {
      "cell_type": "markdown",
      "source": [
        "# Image Augmentation in Keras"
      ],
      "metadata": {
        "id": "Oqq8qRQGeDf3"
      }
    },
    {
      "cell_type": "markdown",
      "source": [
        "[Imports](#imports)\n",
        "\n",
        "[Data](#data)"
      ],
      "metadata": {
        "id": "fGAItEaSeS_B"
      }
    },
    {
      "cell_type": "markdown",
      "source": [
        "##### Imports \n",
        "<a name=\"imports\"></a>"
      ],
      "metadata": {
        "id": "4TFX24Wxdzs7"
      }
    },
    {
      "cell_type": "code",
      "source": [
        "import tensorflow\n",
        "from tensorflow.keras.preprocessing.image import ImageDataGenerator"
      ],
      "metadata": {
        "id": "usuIEsaMeLpx"
      },
      "execution_count": null,
      "outputs": []
    },
    {
      "cell_type": "markdown",
      "source": [
        "##### Data\n",
        "<a name=\"data\"></a>"
      ],
      "metadata": {
        "id": "_u58n6lzeMr6"
      }
    },
    {
      "cell_type": "code",
      "source": [
        "datagen = ImageDataGenerator(\n",
        "                    rotation_range = 40,\n",
        "                    width_shift_range = 0.2,\n",
        "                    height_shift_range = 0.2,\n",
        "                    rescale = 1./255\n",
        "                    shear_range = 0.2,\n",
        "                    zoom_range = 0.2,\n",
        "                    horizontal_flip = True,\n",
        "                    fill_mode = 'nearest')\n"
      ],
      "metadata": {
        "id": "hiKkhWFieNDW"
      },
      "execution_count": null,
      "outputs": []
    },
    {
      "cell_type": "code",
      "source": [
        "train_datagen = ImageDataGenerator(\n",
        "        rescale=1./255,\n",
        "        shear_range=0.2,\n",
        "        zoom_range=0.2,\n",
        "        horizontal_flip=True)"
      ],
      "metadata": {
        "id": "Iz_RkKgOdzyJ"
      },
      "execution_count": null,
      "outputs": []
    },
    {
      "cell_type": "code",
      "source": [
        "test_datagen = ImageDataGenerator(rescale=1./255)\n"
      ],
      "metadata": {
        "id": "WDWbvyMwdz9n"
      },
      "execution_count": null,
      "outputs": []
    },
    {
      "cell_type": "code",
      "source": [
        "train_generator = train_datagen.flow_from_directory(\n",
        "        'data/train',  \n",
        "        target_size=(150, 150),  \n",
        "        batch_size=batch_size,\n",
        "        class_mode='binary')\n"
      ],
      "metadata": {
        "id": "urFkBcYkd5eN"
      },
      "execution_count": null,
      "outputs": []
    },
    {
      "cell_type": "code",
      "source": [
        "train_datagen = ImageDataGenerator(\n",
        "        rescale=1./255,\n",
        "        shear_range=0.2,\n",
        "        zoom_range=0.2,\n",
        "        horizontal_flip=True)"
      ],
      "metadata": {
        "id": "xmS9Ynmhd5sz"
      },
      "execution_count": null,
      "outputs": []
    },
    {
      "cell_type": "markdown",
      "source": [
        "#### References: \n",
        "\n",
        "- https://keras.io/api/data_loading/\n",
        "\n",
        "- https://keras.io/api/data_loading/image/\n",
        "\n",
        "- https://www.tensorflow.org/api_docs/python/tf/keras/preprocessing/image/ImageDataGenerator\n"
      ],
      "metadata": {
        "id": "CrGVjRbMgK8_"
      }
    }
  ]
}